{
 "cells": [
  {
   "cell_type": "code",
   "execution_count": null,
   "id": "9328e547",
   "metadata": {},
   "outputs": [],
   "source": [
    "from pyspark.sql import SparkSession\n",
    "from pyspark.sql.functions import *"
   ]
  },
  {
   "cell_type": "code",
   "execution_count": null,
   "id": "aa9f66c6",
   "metadata": {},
   "outputs": [],
   "source": [
    "spark = SparkSession \\\n",
    "    .builder \\\n",
    "    .appName(\"teste-blu\") \\\n",
    "    .getOrCreate()"
   ]
  },
  {
   "cell_type": "code",
   "execution_count": null,
   "id": "0ee47a7e",
   "metadata": {},
   "outputs": [],
   "source": [
    "df = spark.read.csv(\"/Users/mari_/Documents/Testes/teste.csv\",header=True,sep=\"|\")"
   ]
  },
  {
   "cell_type": "code",
   "execution_count": null,
   "id": "22461107",
   "metadata": {},
   "outputs": [],
   "source": [
    "df.count()"
   ]
  },
  {
   "cell_type": "code",
   "execution_count": null,
   "id": "e1620a26",
   "metadata": {},
   "outputs": [],
   "source": [
    "df_validated = df.filter((df.ValorContrato == df.ContratoPlano * df.ValorParcela) & (dayofweek(df.DataVencimento) != 1) & (dayofweek(df.DataVencimento) != 7)).count()\n"
   ]
  },
  {
   "cell_type": "code",
   "execution_count": null,
   "id": "8ec08eb7",
   "metadata": {},
   "outputs": [],
   "source": [
    "quantidade_contratos = df_validated.select(df.contrato).count()"
   ]
  },
  {
   "cell_type": "code",
   "execution_count": null,
   "id": "4282ddd7",
   "metadata": {},
   "outputs": [],
   "source": [
    "total_contratos = df_validated.groupBy().agg(sum(df.ValorContrato))"
   ]
  },
  {
   "cell_type": "code",
   "execution_count": null,
   "id": "84513b18",
   "metadata": {},
   "outputs": [],
   "source": [
    "acordos_invalidos = df.count() - df_validated.count()"
   ]
  },
  {
   "cell_type": "code",
   "execution_count": null,
   "id": "1746741e",
   "metadata": {},
   "outputs": [],
   "source": [
    "acordos_invalidos_valor = df.count() - df.filter(df.ValorContrato == df.ContratoPlano * df.ValorParcela).count()"
   ]
  },
  {
   "cell_type": "code",
   "execution_count": null,
   "id": "96400184",
   "metadata": {},
   "outputs": [],
   "source": [
    "acordos_invalidos_dia = df.count() - df.filter((dayofweek(df.DataVencimento) != 1) & (dayofweek(df.DataVencimento) != 7)).count()"
   ]
  },
  {
   "cell_type": "code",
   "execution_count": null,
   "id": "aab13e5c",
   "metadata": {},
   "outputs": [],
   "source": [
    "cpf = df_validated.filter(length(df_validated.documento) == 11).count()"
   ]
  },
  {
   "cell_type": "code",
   "execution_count": null,
   "id": "a9f72767",
   "metadata": {},
   "outputs": [],
   "source": [
    "cpnj = df_validated.filter(length(df_validated.documento) == 14).count()"
   ]
  }
 ],
 "metadata": {
  "kernelspec": {
   "display_name": "Python 3",
   "language": "python",
   "name": "python3"
  },
  "language_info": {
   "codemirror_mode": {
    "name": "ipython",
    "version": 3
   },
   "file_extension": ".py",
   "mimetype": "text/x-python",
   "name": "python",
   "nbconvert_exporter": "python",
   "pygments_lexer": "ipython3",
   "version": "3.8.8"
  }
 },
 "nbformat": 4,
 "nbformat_minor": 5
}
